{
 "cells": [
  {
   "cell_type": "code",
   "execution_count": 2,
   "id": "56e7b81f-2600-4e18-b87f-af37153863aa",
   "metadata": {},
   "outputs": [],
   "source": [
    "import statsmodels.api as sm\n",
    "import statsmodels.formula.api as smf\n",
    "import numpy as np\n",
    "import matplotlib.pyplot as plt\n",
    "import pandas as pd"
   ]
  },
  {
   "cell_type": "code",
   "execution_count": 28,
   "id": "db0e09f2-dc09-4e3d-9cbb-48baca99232a",
   "metadata": {},
   "outputs": [
    {
     "name": "stdout",
     "output_type": "stream",
     "text": [
      "                            OLS Regression Results                            \n",
      "==============================================================================\n",
      "Dep. Variable:                      y   R-squared:                       0.539\n",
      "Model:                            OLS   Adj. R-squared:                  0.308\n",
      "Method:                 Least Squares   F-statistic:                     2.337\n",
      "Date:                Sun, 11 Jul 2021   Prob (F-statistic):              0.266\n",
      "Time:                        17:39:38   Log-Likelihood:                -4.0094\n",
      "No. Observations:                   4   AIC:                             12.02\n",
      "Df Residuals:                       2   BIC:                             10.79\n",
      "Df Model:                           1                                         \n",
      "Covariance Type:            nonrobust                                         \n",
      "==============================================================================\n",
      "                 coef    std err          t      P>|t|      [0.025      0.975]\n",
      "------------------------------------------------------------------------------\n",
      "const          1.2661      1.018      1.243      0.340      -3.115       5.648\n",
      "x1             0.4691      0.307      1.529      0.266      -0.851       1.790\n",
      "==============================================================================\n",
      "Omnibus:                          nan   Durbin-Watson:                   2.137\n",
      "Prob(Omnibus):                    nan   Jarque-Bera (JB):                0.477\n",
      "Skew:                           0.199   Prob(JB):                        0.788\n",
      "Kurtosis:                       1.355   Cond. No.                         7.78\n",
      "==============================================================================\n",
      "\n",
      "Notes:\n",
      "[1] Standard Errors assume that the covariance matrix of the errors is correctly specified.\n"
     ]
    },
    {
     "name": "stderr",
     "output_type": "stream",
     "text": [
      "/usr/local/Cellar/jupyterlab/3.0.16/libexec/lib/python3.9/site-packages/statsmodels/stats/stattools.py:74: ValueWarning: omni_normtest is not valid with less than 8 observations; 4 samples were given.\n",
      "  warn(\"omni_normtest is not valid with less than 8 observations; %i \"\n"
     ]
    },
    {
     "data": {
      "image/png": "[encoded data removed]",
      "text/plain": [
       "<Figure size 432x288 with 1 Axes>"
      ]
     },
     "metadata": {
      "needs_background": "light"
     },
     "output_type": "display_data"
    }
   ],
   "source": [
    "\n",
    "x = [ 1, 2.0, 4.0, 4.8 ]\n",
    "y = [ 1, 3.1, 3.5, 3.0 ]\n",
    "\n",
    "plt.plot(x,y,'o')\n",
    "\n",
    "xc = sm.add_constant(x)\n",
    "model = sm.OLS(y,xc)\n",
    "result = model.fit()\n",
    "\n",
    "plt.plot(x,result.fittedvalues)\n",
    "plt.plot(x,result.fittedvalues, 'x')\n",
    "\n",
    "    \n",
    "#plt.plot(x,np.dot(X, beta), 'o', label=\"unobservable\")\n",
    "#plt.plot(x,res.fittedvalues,'o',label='OLS')\n",
    "#plt.legend()\n",
    "print(result.summary())"
   ]
  },
  {
   "cell_type": "code",
   "execution_count": 29,
   "id": "00bc8a89-b1aa-4566-b8e0-cca5aff4675c",
   "metadata": {},
   "outputs": [
    {
     "name": "stdout",
     "output_type": "stream",
     "text": [
      "                            OLS Regression Results                            \n",
      "==============================================================================\n",
      "Dep. Variable:                      y   R-squared:                       0.539\n",
      "Model:                            OLS   Adj. R-squared:                  0.308\n",
      "Method:                 Least Squares   F-statistic:                     2.337\n",
      "Date:                Sun, 11 Jul 2021   Prob (F-statistic):              0.266\n",
      "Time:                        17:39:48   Log-Likelihood:                -4.0094\n",
      "No. Observations:                   4   AIC:                             12.02\n",
      "Df Residuals:                       2   BIC:                             10.79\n",
      "Df Model:                           1                                         \n",
      "Covariance Type:            nonrobust                                         \n",
      "==============================================================================\n",
      "                 coef    std err          t      P>|t|      [0.025      0.975]\n",
      "------------------------------------------------------------------------------\n",
      "Intercept      1.2661      1.018      1.243      0.340      -3.115       5.648\n",
      "x              0.4691      0.307      1.529      0.266      -0.851       1.790\n",
      "==============================================================================\n",
      "Omnibus:                          nan   Durbin-Watson:                   2.137\n",
      "Prob(Omnibus):                    nan   Jarque-Bera (JB):                0.477\n",
      "Skew:                           0.199   Prob(JB):                        0.788\n",
      "Kurtosis:                       1.355   Cond. No.                         7.78\n",
      "==============================================================================\n",
      "\n",
      "Notes:\n",
      "[1] Standard Errors assume that the covariance matrix of the errors is correctly specified.\n"
     ]
    },
    {
     "name": "stderr",
     "output_type": "stream",
     "text": [
      "/usr/local/Cellar/jupyterlab/3.0.16/libexec/lib/python3.9/site-packages/statsmodels/stats/stattools.py:74: ValueWarning: omni_normtest is not valid with less than 8 observations; 4 samples were given.\n",
      "  warn(\"omni_normtest is not valid with less than 8 observations; %i \"\n"
     ]
    },
    {
     "data": {
      "image/png": "[encoded data removed]",
      "text/plain": [
       "<Figure size 381.6x576 with 1 Axes>"
      ]
     },
     "metadata": {
      "needs_background": "light"
     },
     "output_type": "display_data"
    }
   ],
   "source": [
    "df = pd.DataFrame()\n",
    "df['x'] = x\n",
    "df['y'] = y\n",
    "\n",
    "model2 = smf.ols('y ~ x', data=df) \n",
    "result2 = model2.fit()\n",
    "fig = plt.figure(figsize=(5.3, 8))\n",
    "sm.graphics.plot_ccpr_grid(result2, fig=fig);\n",
    "print(result2.summary())"
   ]
  },
  {
   "cell_type": "code",
   "execution_count": null,
   "id": "455a9e54-3267-4f7e-8a5c-1ea38f1c34d1",
   "metadata": {},
   "outputs": [],
   "source": []
  }
 ],
 "metadata": {
  "kernelspec": {
   "display_name": "Python 3",
   "language": "python",
   "name": "python3"
  },
  "language_info": {
   "codemirror_mode": {
    "name": "ipython",
    "version": 3
   },
   "file_extension": ".py",
   "mimetype": "text/x-python",
   "name": "python",
   "nbconvert_exporter": "python",
   "pygments_lexer": "ipython3",
   "version": "3.9.5"
  }
 },
 "nbformat": 4,
 "nbformat_minor": 5
}
